{
  "cells": [
    {
      "cell_type": "markdown",
      "metadata": {
        "id": "ukfWUs17K64z"
      },
      "source": [
        "# Import / Install"
      ]
    },
    {
      "cell_type": "code",
      "execution_count": null,
      "metadata": {
        "colab": {
          "base_uri": "https://localhost:8080/"
        },
        "id": "nHRW184wLQVO",
        "outputId": "49822473-8e21-44c6-9397-c77582a13815"
      },
      "outputs": [
        {
          "output_type": "stream",
          "name": "stdout",
          "text": [
            "Looking in indexes: https://pypi.org/simple, https://us-python.pkg.dev/colab-wheels/public/simple/\n",
            "Collecting biopython\n",
            "  Downloading biopython-1.81-cp310-cp310-manylinux_2_17_x86_64.manylinux2014_x86_64.whl (3.1 MB)\n",
            "\u001b[2K     \u001b[90m━━━━━━━━━━━━━━━━━━━━━━━━━━━━━━━━━━━━━━━━\u001b[0m \u001b[32m3.1/3.1 MB\u001b[0m \u001b[31m33.1 MB/s\u001b[0m eta \u001b[36m0:00:00\u001b[0m\n",
            "\u001b[?25hRequirement already satisfied: numpy in /usr/local/lib/python3.10/dist-packages (from biopython) (1.22.4)\n",
            "Installing collected packages: biopython\n",
            "Successfully installed biopython-1.81\n"
          ]
        }
      ],
      "source": [
        "!pip install biopython"
      ]
    },
    {
      "cell_type": "code",
      "execution_count": null,
      "metadata": {
        "id": "19hNOP4VKfoB"
      },
      "outputs": [],
      "source": [
        "import pandas as pd\n",
        "import numpy as np\n",
        "from Bio import SeqIO\n",
        "from tqdm import tqdm"
      ]
    },
    {
      "cell_type": "markdown",
      "metadata": {
        "id": "PPl3vtP2NHK0"
      },
      "source": [
        "# Translate functions"
      ]
    },
    {
      "cell_type": "code",
      "execution_count": null,
      "metadata": {
        "id": "CoYO3KsyM_te"
      },
      "outputs": [],
      "source": [
        "def translate(seq, translate_dict):\n",
        "    seq = seq.upper()\n",
        "    codon_seq = ''\n",
        "    for i in range(0, len(seq), 3):\n",
        "        codon = seq[i:i + 3]\n",
        "        codon_seq += translate_dict[codon]\n",
        "    return codon_seq\n",
        "\n",
        "def check(input, allowed):\n",
        "    return set(input) <= allowed"
      ]
    },
    {
      "cell_type": "code",
      "execution_count": null,
      "metadata": {
        "id": "2HvafhVpMw3f"
      },
      "outputs": [],
      "source": [
        "df = pd.read_csv('/content/drive/MyDrive/Logan/CDS_data/codon_1_letter_code.csv').astype('string')\n",
        "#rna_singlecodon = dict(zip(df['Codon-RNA'], df['Single-Letter-Codon']))\n",
        "dna_singlecodon = dict(zip(df['Codon-DNA'], df['Single-Letter-Codon']))\n",
        "#singlecodon_dna = dict(zip(df['Single-Letter-Codon'], df['Codon-DNA']))\n",
        "#singlecodon_rna = dict(zip(df['Single-Letter-Codon'], df['Codon-RNA']))\n",
        "#dna_amino = dict(zip(df['Codon-DNA'], df['Single-Letter-Amino']))\n",
        "#singlecodon_amino = dict(zip(df['Single-Letter-Codon'], df['Single-Letter-Amino']))"
      ]
    },
    {
      "cell_type": "markdown",
      "metadata": {
        "id": "mZKbxBP2L_1p"
      },
      "source": [
        "# Preprocessing"
      ]
    },
    {
      "cell_type": "code",
      "execution_count": null,
      "metadata": {
        "id": "uzvIc9SKLFp2"
      },
      "outputs": [],
      "source": [
        "with open('/content/drive/MyDrive/Logan/CDS_data/merged.txt', 'r') as f:\n",
        "    SeqDict = SeqIO.to_dict(SeqIO.parse(f, 'fasta'))"
      ]
    },
    {
      "cell_type": "code",
      "execution_count": null,
      "metadata": {
        "id": "GLcK-l1TMMzF"
      },
      "outputs": [],
      "source": [
        "all_keys = list(SeqDict.keys())\n",
        "all_values = list(SeqDict.values())"
      ]
    },
    {
      "cell_type": "code",
      "execution_count": null,
      "metadata": {
        "colab": {
          "base_uri": "https://localhost:8080/"
        },
        "id": "6MaO1ITSOHR_",
        "outputId": "359d093c-1a43-4136-e94c-8c9b7677b638"
      },
      "outputs": [
        {
          "output_type": "stream",
          "name": "stderr",
          "text": [
            "100%|██████████| 12759929/12759929 [25:15<00:00, 8418.75it/s] "
          ]
        },
        {
          "output_type": "stream",
          "name": "stdout",
          "text": [
            "3319251\n"
          ]
        },
        {
          "output_type": "stream",
          "name": "stderr",
          "text": [
            "\n"
          ]
        }
      ],
      "source": [
        "# Process Sequence data\n",
        "count = 0\n",
        "allowed = set('ATCG')\n",
        "with open('/content/drive/MyDrive/Logan/CDS_data/preprocessed.txt', 'w') as f:\n",
        "    for i in tqdm(range(len(all_keys))):\n",
        "        seq = str(all_values[i].seq)\n",
        "        letter_cond = check(seq, allowed)\n",
        "        if len(seq) % 3 == 0 and seq.endswith(('TAA', 'TAG', 'TGA')) and len(seq) <= 3000 and letter_cond:\n",
        "            # save IF sequence is multiple of three, ends with a stop codon, is less than 1000 amino acids, and only contains ATCGs\n",
        "            # translate DNA sequence into codon sequence for a smaller file\n",
        "            seq = translate(seq, dna_singlecodon)\n",
        "            f.write(all_keys[i] + '\\n')\n",
        "            f.write(seq + '\\n')\n",
        "        else:\n",
        "            count += 1\n",
        "print(count)"
      ]
    },
    {
      "cell_type": "code",
      "source": [
        "# Get list of ids only\n",
        "with open('/content/drive/MyDrive/Logan/CDS_data/ids.txt', 'w') as f:\n",
        "    for i in tqdm(range(len(all_keys))):\n",
        "        f.write(all_keys[i] + '\\n')"
      ],
      "metadata": {
        "colab": {
          "base_uri": "https://localhost:8080/"
        },
        "id": "vRvmC2JL1XrP",
        "outputId": "6872f809-49eb-4744-d2db-4735297fdd5b"
      },
      "execution_count": null,
      "outputs": [
        {
          "output_type": "stream",
          "name": "stderr",
          "text": [
            "100%|██████████| 12759929/12759929 [00:07<00:00, 1765103.89it/s]\n"
          ]
        }
      ]
    }
  ],
  "metadata": {
    "colab": {
      "machine_shape": "hm",
      "provenance": [],
      "gpuType": "A100"
    },
    "gpuClass": "standard",
    "kernelspec": {
      "display_name": "Python 3",
      "name": "python3"
    },
    "language_info": {
      "name": "python"
    },
    "accelerator": "GPU"
  },
  "nbformat": 4,
  "nbformat_minor": 0
}